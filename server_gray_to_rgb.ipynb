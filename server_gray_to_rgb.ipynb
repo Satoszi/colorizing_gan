{
 "cells": [
  {
   "cell_type": "code",
   "execution_count": 1,
   "metadata": {},
   "outputs": [
    {
     "name": "stderr",
     "output_type": "stream",
     "text": [
      "C:\\Users\\Mateusz\\anaconda3\\envs\\pytorch_11_2022\\lib\\site-packages\\tqdm\\auto.py:22: TqdmWarning: IProgress not found. Please update jupyter and ipywidgets. See https://ipywidgets.readthedocs.io/en/stable/user_install.html\n",
      "  from .autonotebook import tqdm as notebook_tqdm\n"
     ]
    }
   ],
   "source": [
    "from flask import Flask, request, send_file\n",
    "from PIL import Image\n",
    "import torch\n",
    "import torchvision.transforms as transforms\n",
    "import io\n"
   ]
  },
  {
   "cell_type": "code",
   "execution_count": 2,
   "metadata": {},
   "outputs": [],
   "source": [
    "\n",
    "# Load the generator\n",
    "from autoencoder_gen import Generator # Assuming you have a separate file with the generator model class named `my_generator.py`\n",
    "generator = Generator(1, 3, 32)\n",
    "generator.load_state_dict(torch.load('generator_autoencoder_unet_128_state.pt', map_location='cpu'))\n",
    "\n",
    "# generator = torch.load('generator_autoencoder_unet_128.pth')\n",
    "# generator.to(\"cpu\")\n",
    "generator = generator.eval()"
   ]
  },
  {
   "cell_type": "code",
   "execution_count": 3,
   "metadata": {},
   "outputs": [],
   "source": [
    "app = Flask(__name__)\n",
    "\n",
    "CHANNELS_IMG = 3\n",
    "IMAGE_SIZE = 128\n",
    "\n",
    "@app.route('/generate', methods=['POST'])\n",
    "def generate():\n",
    "    image = Image.open(request.files['image'])\n",
    "    if image.mode != 'RGB':  # If the image is grayscale, convert it to RGB\n",
    "        image = image.convert('RGB')\n",
    "\n",
    "    input_image = preprocess_image(image)\n",
    "    gray_image = input_image.mean(dim=1, keepdim=True)  # Compute the mean of the RGB channels to create a single channel image\n",
    "\n",
    "    with torch.no_grad():\n",
    "        output_image = generator(gray_image)\n",
    "\n",
    "    output_image = postprocess_output(output_image)\n",
    "\n",
    "    # Save the output image as a byte stream to send it back as a response\n",
    "    output_stream = io.BytesIO()\n",
    "    Image.fromarray(output_image).save(output_stream, format='PNG')\n",
    "    output_stream.seek(0)\n",
    "\n",
    "    return send_file(output_stream, mimetype='image/png')\n",
    "\n",
    "def preprocess_image(image, image_size=(IMAGE_SIZE, IMAGE_SIZE)):\n",
    "    transform = transforms.Compose(\n",
    "        [\n",
    "            transforms.Resize(image_size),\n",
    "            transforms.ToTensor(),\n",
    "            transforms.Normalize(\n",
    "                [0.5 for _ in range(CHANNELS_IMG)], [0.5 for _ in range(CHANNELS_IMG)]\n",
    "            ),\n",
    "        ]\n",
    "    )\n",
    "    return transform(image).unsqueeze(0)\n",
    "\n",
    "def postprocess_output(output_tensor):\n",
    "    output_image = output_tensor.squeeze(0).detach().cpu().numpy().transpose(1, 2, 0)\n",
    "    return ((output_image + 1) / 2 * 255).clip(0, 255).astype('uint8')\n",
    "\n"
   ]
  },
  {
   "cell_type": "code",
   "execution_count": null,
   "metadata": {},
   "outputs": [
    {
     "name": "stdout",
     "output_type": "stream",
     "text": [
      " * Serving Flask app '__main__' (lazy loading)\n",
      " * Environment: production\n",
      "\u001b[31m   WARNING: This is a development server. Do not use it in a production deployment.\u001b[0m\n",
      "\u001b[2m   Use a production WSGI server instead.\u001b[0m\n",
      " * Debug mode: off\n"
     ]
    },
    {
     "name": "stderr",
     "output_type": "stream",
     "text": [
      " * Running on all addresses.\n",
      "   WARNING: This is a development server. Do not use it in a production deployment.\n",
      " * Running on http://192.168.178.13:8000/ (Press CTRL+C to quit)\n",
      "127.0.0.1 - - [07/May/2023 17:10:27] \"POST /generate HTTP/1.1\" 200 -\n",
      "127.0.0.1 - - [07/May/2023 17:10:38] \"POST /generate HTTP/1.1\" 200 -\n",
      "127.0.0.1 - - [07/May/2023 17:10:57] \"POST /generate HTTP/1.1\" 200 -\n",
      "127.0.0.1 - - [07/May/2023 17:11:45] \"POST /generate HTTP/1.1\" 200 -\n",
      "127.0.0.1 - - [07/May/2023 17:13:11] \"POST /generate HTTP/1.1\" 200 -\n",
      "127.0.0.1 - - [07/May/2023 22:43:51] \"POST /generate HTTP/1.1\" 200 -\n",
      "127.0.0.1 - - [07/May/2023 22:49:55] \"POST /generate HTTP/1.1\" 200 -\n",
      "127.0.0.1 - - [07/May/2023 22:52:40] \"POST /generate HTTP/1.1\" 200 -\n",
      "127.0.0.1 - - [07/May/2023 22:52:44] \"POST /generate HTTP/1.1\" 200 -\n",
      "127.0.0.1 - - [07/May/2023 22:52:50] \"POST /generate HTTP/1.1\" 200 -\n"
     ]
    }
   ],
   "source": [
    "if __name__ == '__main__':\n",
    "    app.run(host='0.0.0.0', port=8000)"
   ]
  },
  {
   "cell_type": "code",
   "execution_count": null,
   "metadata": {},
   "outputs": [],
   "source": []
  },
  {
   "cell_type": "code",
   "execution_count": null,
   "metadata": {},
   "outputs": [],
   "source": []
  },
  {
   "cell_type": "code",
   "execution_count": null,
   "metadata": {},
   "outputs": [],
   "source": []
  },
  {
   "cell_type": "code",
   "execution_count": null,
   "metadata": {},
   "outputs": [],
   "source": []
  }
 ],
 "metadata": {
  "kernelspec": {
   "display_name": "pt_2022_11",
   "language": "python",
   "name": "pt_2022_11"
  },
  "language_info": {
   "codemirror_mode": {
    "name": "ipython",
    "version": 3
   },
   "file_extension": ".py",
   "mimetype": "text/x-python",
   "name": "python",
   "nbconvert_exporter": "python",
   "pygments_lexer": "ipython3",
   "version": "3.10.6"
  }
 },
 "nbformat": 4,
 "nbformat_minor": 4
}
