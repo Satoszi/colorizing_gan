{
 "cells": [
  {
   "cell_type": "code",
   "execution_count": 1,
   "metadata": {},
   "outputs": [
    {
     "name": "stderr",
     "output_type": "stream",
     "text": [
      "C:\\Users\\Mateusz\\anaconda3\\envs\\pytorch_11_2022\\lib\\site-packages\\tqdm\\auto.py:22: TqdmWarning: IProgress not found. Please update jupyter and ipywidgets. See https://ipywidgets.readthedocs.io/en/stable/user_install.html\n",
      "  from .autonotebook import tqdm as notebook_tqdm\n"
     ]
    }
   ],
   "source": [
    "import torch\n",
    "import torch.nn as nn\n",
    "import torchvision.transforms as transforms\n",
    "import torchvision.datasets as datasets\n",
    "from torch.utils.data import DataLoader\n",
    "from models_unet import Discriminator, Generator, initialize_weights\n",
    "import torch.optim as optim\n",
    "import torchvision\n",
    "from torch.utils.tensorboard import SummaryWriter"
   ]
  },
  {
   "cell_type": "code",
   "execution_count": 76,
   "metadata": {},
   "outputs": [],
   "source": [
    "import torch\n",
    "import torch.nn as nn\n",
    "\n",
    "class Unet(nn.Module):\n",
    "    def __init__(self, in_channels, out_channels, features):\n",
    "        super(Unet, self).__init__()\n",
    "\n",
    "        # Encoder\n",
    "        self.enc1 = self._conv_block(in_channels, features, 4, 2, 1)  # Input: [3, 64, 64], Output: [features, 32, 32]\n",
    "        self.enc2 = self._conv_block(features, features * 2, 4, 2, 1)  # Input: [features, 32, 32], Output: [features*2, 16, 16]\n",
    "        self.enc3 = self._conv_block(features * 2, features * 4, 4, 2, 1)  # Input: [features*2, 16, 16], Output: [features*4, 8, 8]\n",
    "\n",
    "        # Decoder\n",
    "        self.dec1 = self._tconv_block(features * 4, features * 2, 4, 2, 1)  # Input: [features*4, 8, 8], Output: [features*2, 16, 16]\n",
    "        self.dec2 = self._tconv_block(features * 4, features, 4, 2, 1)  # Input: [features*4, 16, 16], Output: [features, 32, 32]\n",
    "        self.dec3 = nn.Sequential(\n",
    "            nn.ConvTranspose2d(features * 2, out_channels, kernel_size=4, stride=2, padding=1),\n",
    "            nn.Tanh()\n",
    "        )  # Input: [features*2, 32, 32], Output: [out_channels, 64, 64]\n",
    "\n",
    "    def _conv_block(self, in_channels, out_channels, kernel_size, stride, padding):\n",
    "        return nn.Sequential(\n",
    "            nn.Conv2d(in_channels, out_channels, kernel_size, stride, padding),\n",
    "            nn.BatchNorm2d(out_channels),\n",
    "            nn.LeakyReLU(0.2, inplace=True)\n",
    "        )\n",
    "\n",
    "    def _tconv_block(self, in_channels, out_channels, kernel_size, stride, padding):\n",
    "        return nn.Sequential(\n",
    "            nn.ConvTranspose2d(in_channels, out_channels, kernel_size, stride, padding),\n",
    "            nn.BatchNorm2d(out_channels),\n",
    "            nn.ReLU(inplace=True)\n",
    "        )\n",
    "\n",
    "    def forward(self, x):\n",
    "        # Encoding path\n",
    "        enc1 = self.enc1(x)  # Output shape: [features, 32, 32]\n",
    "        enc2 = self.enc2(enc1)  # Output shape: [features*2, 16, 16]\n",
    "        enc3 = self.enc3(enc2)  # Output shape: [features*4, 8, 8]\n",
    "\n",
    "        # Decoding path\n",
    "        dec1 = self.dec1(enc3)  # Output shape: [features*2, 16, 16]\n",
    "        dec1 = torch.cat((dec1, enc2), dim=1)  # Output shape: [features*4, 16, 16]\n",
    "        dec2 = self.dec2(dec1)  # Output shape: [features, 32, 32]\n",
    "        dec2 = torch.cat((dec2, enc1), dim=1)  # Output shape: [features*2, 32, 32]\n",
    "        out = self.dec3(dec2)  # Output shape: [out\n",
    "        return out"
   ]
  },
  {
   "cell_type": "code",
   "execution_count": 74,
   "metadata": {},
   "outputs": [
    {
     "name": "stdout",
     "output_type": "stream",
     "text": [
      "torch.Size([1, 128, 8, 8])\n",
      "torch.Size([1, 3, 64, 64])\n"
     ]
    }
   ],
   "source": [
    "gen = Unet(3, 3, 32)\n",
    "a = torch.ones(1, 3, 64, 64)\n",
    "print(gen(a).shape)  # Should print torch.Size([1, 3, 64, 64])"
   ]
  },
  {
   "cell_type": "code",
   "execution_count": null,
   "metadata": {},
   "outputs": [],
   "source": []
  },
  {
   "cell_type": "code",
   "execution_count": null,
   "metadata": {},
   "outputs": [],
   "source": []
  }
 ],
 "metadata": {
  "kernelspec": {
   "display_name": "pt_2022_11",
   "language": "python",
   "name": "pt_2022_11"
  },
  "language_info": {
   "codemirror_mode": {
    "name": "ipython",
    "version": 3
   },
   "file_extension": ".py",
   "mimetype": "text/x-python",
   "name": "python",
   "nbconvert_exporter": "python",
   "pygments_lexer": "ipython3",
   "version": "3.10.6"
  }
 },
 "nbformat": 4,
 "nbformat_minor": 4
}
